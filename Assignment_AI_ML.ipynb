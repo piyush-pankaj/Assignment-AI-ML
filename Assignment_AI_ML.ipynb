{
  "nbformat": 4,
  "nbformat_minor": 0,
  "metadata": {
    "colab": {
      "provenance": [],
      "authorship_tag": "ABX9TyN1m3LhNb1mY7Z9a2j+b+EH",
      "include_colab_link": true
    },
    "kernelspec": {
      "name": "python3",
      "display_name": "Python 3"
    },
    "language_info": {
      "name": "python"
    }
  },
  "cells": [
    {
      "cell_type": "markdown",
      "metadata": {
        "id": "view-in-github",
        "colab_type": "text"
      },
      "source": [
        "<a href=\"https://colab.research.google.com/github/piyush-pankaj/Assignment-AI-ML/blob/main/Assignment_AI_ML.ipynb\" target=\"_parent\"><img src=\"https://colab.research.google.com/assets/colab-badge.svg\" alt=\"Open In Colab\"/></a>"
      ]
    },
    {
      "cell_type": "markdown",
      "source": [
        "#Question 1\n",
        "Write a python code for converting integer values to Indian currency notations, without\n",
        "using the currency libraries"
      ],
      "metadata": {
        "id": "EaYbXwgBqe0y"
      }
    },
    {
      "cell_type": "code",
      "source": [
        "def convert_to_inr(num):\n",
        "    num_str = str(num)\n",
        "    n = len(num_str)\n",
        "    if n <= 3:\n",
        "        return num_str\n",
        "    if n % 2 != 0:\n",
        "        num_str = '0' + num_str\n",
        "        n += 1\n",
        "    comma_count = (n - 1) // 2\n",
        "    result = ''\n",
        "    for i in range(comma_count):\n",
        "        result += num_str[i*2:i*2+2] + ','\n",
        "    result += num_str[comma_count*2:]\n",
        "    return result.rstrip(',')\n",
        "\n",
        "# Example usage\n",
        "num = 504678\n",
        "inr = convert_to_inr(num)\n",
        "print(inr)"
      ],
      "metadata": {
        "colab": {
          "base_uri": "https://localhost:8080/"
        },
        "id": "NRG_xHIwqiyQ",
        "outputId": "9ec9ac03-7b38-4566-f14f-1177ac535416"
      },
      "execution_count": 8,
      "outputs": [
        {
          "output_type": "stream",
          "name": "stdout",
          "text": [
            "50,46,78\n"
          ]
        }
      ]
    },
    {
      "cell_type": "markdown",
      "source": [
        "The function takes an integer as input and returns a string with the equivalent Indian currency notation. The function first converts the integer to a string and then inserts commas in the appropriate places based on the Indian currency notation. The function returns the final string with commas. The code also includes an example usage where the function is called with an example integer value and the output is printed."
      ],
      "metadata": {
        "id": "Ql3x8ITn6UXs"
      }
    },
    {
      "cell_type": "markdown",
      "source": [
        "# Question 2\n",
        "You won’t get caught if you hide behind someone.” <br>\n",
        "Sang-Woo advises Gi-Hun to hide behind someone to avoid getting shot.<br>\n",
        "Gi-Hun follows Sang-Woo's advice and hides behind Ali, who saved his life earlier. Gi-Hun and Ali\n",
        "both have the same height, K\n",
        ". Many players saw this trick and also started hiding behind Ali.\n",
        "Now, there are N\n",
        "players standing between Gi-Hun and Ali in a straight line, with the ith player having height Hi\n",
        ". Gi-Hun wants to know the minimum number of players who need to get shot so that Ali is visible\n",
        "in his line of sight.\n",
        "## Note:\n",
        "• Line of sight is a straight line drawn between the topmost point of two objects. Ali is visible\n",
        "to Gi-Hun if nobody between them crosses this line.\n",
        "• Even if there are some players who have the same height as that of Gi-Hun and Ali, Ali will\n",
        "be visible in Gi-Hun's line of sight.\n",
        "• Gi-Hun and Ali have the same height.\n",
        "## Input Format\n",
        "• The first line of input contains a single integer T\n",
        ", denoting the number of test cases. The description of T\n",
        "• test cases follows.\n",
        "• The first line of each test case contains two space-separated integers N and K\n",
        "• , denoting the total number of players between Gi-Hun and Ali and the height of both of\n",
        "them respectively.\n",
        "• The second line of each test case contains N\n",
        "• space-separated integers, denoting the heights of the players between Gi-Hun and Ali.\n",
        "## Output Format\n",
        "For each test case, output in a single line the minimum number of players who need to get shot so\n",
        "that Ali is visible in Gi-Hun's line of sight.\n",
        "## Constraints\n",
        "• 1≤T≤105\n",
        "\n",
        "• 1≤N≤105\n",
        "• 1≤K≤106\n",
        "• 1≤Hi≤106 for every 1≤i≤N\n",
        "• .\n",
        "• The sum of N across all test cases does not exceed 5⋅105\n",
        "• .\n",
        "## Sample Input 1\n",
        "3\n",
        "4 10\n",
        "2 13 4 16\n",
        "5 8\n",
        "9 3 8 8 4\n",
        "4 6\n",
        "1 2 3 4\n",
        "\n",
        "## Sample Output 1\n",
        "2\n",
        "1\n",
        "0\n",
        "## Explanation\n",
        "**Test Case 1**: Gi-Hun and Ali have height 10\n",
        ". For Ali to be visible to Gi-Hun, the second person (with height 13) and the fourth person (with\n",
        "height 16) need to get shot. Hence, the minimum number of players who need to get shot is 2.<br>\n",
        "**Test Case 2**: Gi-Hun and Ali have height 8\n",
        ". For Ali to be visible to Gi-Hun, the first person (with height 9) needs to get shot. Hence, the\n",
        "minimum number of players who need to get shot is 1.<br>\n",
        "**Test Case 3**: Nobody needs to get shot because everyone is shorter than Gi-Hun and Ali."
      ],
      "metadata": {
        "id": "bA1q0NGluiEQ"
      }
    },
    {
      "cell_type": "code",
      "source": [
        "n = int(input())\n",
        "\n",
        "for i in range(n):\n",
        "\n",
        "   c = 0\n",
        "\n",
        "   n,k = list(map(int,input().split()))\n",
        "\n",
        "   heights = list(map(int,input().split()))\n",
        "\n",
        "   for i in heights:\n",
        "\n",
        "       if i > k:\n",
        "\n",
        "           c+=1\n",
        "\n",
        "   print(c)  "
      ],
      "metadata": {
        "colab": {
          "base_uri": "https://localhost:8080/"
        },
        "id": "EUJFLFGnrLV1",
        "outputId": "00efe301-d8c5-4760-939c-fcf01c24ef93"
      },
      "execution_count": 5,
      "outputs": [
        {
          "output_type": "stream",
          "name": "stdout",
          "text": [
            "3\n",
            "4 10\n",
            "2 13 4 16\n",
            "2\n",
            "5 8\n",
            "9 3 8 8 4\n",
            "1\n",
            "4 6\n",
            "1 2 3 4\n",
            "0\n"
          ]
        }
      ]
    },
    {
      "cell_type": "markdown",
      "source": [
        "It takes integer inputs from the user, followed by n sets of integer inputs. Each set contains an integer k, followed by a list of integers heights. The code then counts the number of heights in the list that are greater than k and prints that count.\n",
        "\n",
        "The code uses a loop that iterates n times. In each iteration, it initializes a counter variable c to zero, reads two integers n and k from the user input, and reads a list of integers heights from the user input. Then, it iterates over the heights list and checks if each height is greater than k. If a height is greater than k, it increments the counter c. Finally, it prints the value of c.\n",
        "\n",
        "Overall, this code seems to be calculating the number of heights in a list that exceed a certain threshold value k."
      ],
      "metadata": {
        "id": "95hjHi-84nU5"
      }
    }
  ]
}